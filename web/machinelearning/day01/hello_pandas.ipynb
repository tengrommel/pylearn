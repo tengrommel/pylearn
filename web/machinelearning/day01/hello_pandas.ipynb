{
 "cells": [
  {
   "cell_type": "code",
   "execution_count": 2,
   "metadata": {},
   "outputs": [],
   "source": [
    "import pandas as pd\n",
    "import numpy as np"
   ]
  },
  {
   "cell_type": "code",
   "execution_count": 3,
   "metadata": {},
   "outputs": [],
   "source": [
    "stock = np.random.normal(0,1, (10, 5))"
   ]
  },
  {
   "cell_type": "code",
   "execution_count": 4,
   "metadata": {},
   "outputs": [
    {
     "data": {
      "text/plain": [
       "array([[ 2.01775336,  0.06906425, -0.1004546 , -0.51560794,  0.77359071],\n",
       "       [ 1.72794185,  0.34178628, -1.13003794,  0.52434929, -0.58408232],\n",
       "       [ 1.10286453, -0.82094659,  0.52120972,  1.68683525,  1.30055919],\n",
       "       [-0.59697309, -0.10312162, -0.35293199,  1.11615674,  2.34354857],\n",
       "       [ 1.06816715, -0.39841413, -0.12833635, -1.46593273, -0.50044581],\n",
       "       [ 0.75230392, -0.7133052 , -0.37119898,  0.97116107, -0.34404812],\n",
       "       [-0.46431526,  0.30212107, -0.00636662, -0.80679232, -0.20885263],\n",
       "       [-1.73990251,  0.61032493,  0.84083954, -0.33254007,  1.63460927],\n",
       "       [-0.94527425,  0.17560589,  0.41508101,  0.28550537,  0.42743723],\n",
       "       [ 1.68244165,  1.13252817,  0.52390178, -0.36255278, -1.24096359]])"
      ]
     },
     "execution_count": 4,
     "metadata": {},
     "output_type": "execute_result"
    }
   ],
   "source": [
    "stock"
   ]
  },
  {
   "cell_type": "code",
   "execution_count": 8,
   "metadata": {},
   "outputs": [],
   "source": [
    "stock_rise = pd.DataFrame(stock)"
   ]
  },
  {
   "cell_type": "code",
   "execution_count": 10,
   "metadata": {},
   "outputs": [
    {
     "data": {
      "text/html": [
       "<div>\n",
       "<style scoped>\n",
       "    .dataframe tbody tr th:only-of-type {\n",
       "        vertical-align: middle;\n",
       "    }\n",
       "\n",
       "    .dataframe tbody tr th {\n",
       "        vertical-align: top;\n",
       "    }\n",
       "\n",
       "    .dataframe thead th {\n",
       "        text-align: right;\n",
       "    }\n",
       "</style>\n",
       "<table border=\"1\" class=\"dataframe\">\n",
       "  <thead>\n",
       "    <tr style=\"text-align: right;\">\n",
       "      <th></th>\n",
       "      <th>0</th>\n",
       "      <th>1</th>\n",
       "      <th>2</th>\n",
       "      <th>3</th>\n",
       "      <th>4</th>\n",
       "    </tr>\n",
       "  </thead>\n",
       "  <tbody>\n",
       "    <tr>\n",
       "      <th>0</th>\n",
       "      <td>2.017753</td>\n",
       "      <td>0.069064</td>\n",
       "      <td>-0.100455</td>\n",
       "      <td>-0.515608</td>\n",
       "      <td>0.773591</td>\n",
       "    </tr>\n",
       "    <tr>\n",
       "      <th>1</th>\n",
       "      <td>1.727942</td>\n",
       "      <td>0.341786</td>\n",
       "      <td>-1.130038</td>\n",
       "      <td>0.524349</td>\n",
       "      <td>-0.584082</td>\n",
       "    </tr>\n",
       "    <tr>\n",
       "      <th>2</th>\n",
       "      <td>1.102865</td>\n",
       "      <td>-0.820947</td>\n",
       "      <td>0.521210</td>\n",
       "      <td>1.686835</td>\n",
       "      <td>1.300559</td>\n",
       "    </tr>\n",
       "    <tr>\n",
       "      <th>3</th>\n",
       "      <td>-0.596973</td>\n",
       "      <td>-0.103122</td>\n",
       "      <td>-0.352932</td>\n",
       "      <td>1.116157</td>\n",
       "      <td>2.343549</td>\n",
       "    </tr>\n",
       "    <tr>\n",
       "      <th>4</th>\n",
       "      <td>1.068167</td>\n",
       "      <td>-0.398414</td>\n",
       "      <td>-0.128336</td>\n",
       "      <td>-1.465933</td>\n",
       "      <td>-0.500446</td>\n",
       "    </tr>\n",
       "    <tr>\n",
       "      <th>5</th>\n",
       "      <td>0.752304</td>\n",
       "      <td>-0.713305</td>\n",
       "      <td>-0.371199</td>\n",
       "      <td>0.971161</td>\n",
       "      <td>-0.344048</td>\n",
       "    </tr>\n",
       "    <tr>\n",
       "      <th>6</th>\n",
       "      <td>-0.464315</td>\n",
       "      <td>0.302121</td>\n",
       "      <td>-0.006367</td>\n",
       "      <td>-0.806792</td>\n",
       "      <td>-0.208853</td>\n",
       "    </tr>\n",
       "    <tr>\n",
       "      <th>7</th>\n",
       "      <td>-1.739903</td>\n",
       "      <td>0.610325</td>\n",
       "      <td>0.840840</td>\n",
       "      <td>-0.332540</td>\n",
       "      <td>1.634609</td>\n",
       "    </tr>\n",
       "    <tr>\n",
       "      <th>8</th>\n",
       "      <td>-0.945274</td>\n",
       "      <td>0.175606</td>\n",
       "      <td>0.415081</td>\n",
       "      <td>0.285505</td>\n",
       "      <td>0.427437</td>\n",
       "    </tr>\n",
       "    <tr>\n",
       "      <th>9</th>\n",
       "      <td>1.682442</td>\n",
       "      <td>1.132528</td>\n",
       "      <td>0.523902</td>\n",
       "      <td>-0.362553</td>\n",
       "      <td>-1.240964</td>\n",
       "    </tr>\n",
       "  </tbody>\n",
       "</table>\n",
       "</div>"
      ],
      "text/plain": [
       "          0         1         2         3         4\n",
       "0  2.017753  0.069064 -0.100455 -0.515608  0.773591\n",
       "1  1.727942  0.341786 -1.130038  0.524349 -0.584082\n",
       "2  1.102865 -0.820947  0.521210  1.686835  1.300559\n",
       "3 -0.596973 -0.103122 -0.352932  1.116157  2.343549\n",
       "4  1.068167 -0.398414 -0.128336 -1.465933 -0.500446\n",
       "5  0.752304 -0.713305 -0.371199  0.971161 -0.344048\n",
       "6 -0.464315  0.302121 -0.006367 -0.806792 -0.208853\n",
       "7 -1.739903  0.610325  0.840840 -0.332540  1.634609\n",
       "8 -0.945274  0.175606  0.415081  0.285505  0.427437\n",
       "9  1.682442  1.132528  0.523902 -0.362553 -1.240964"
      ]
     },
     "execution_count": 10,
     "metadata": {},
     "output_type": "execute_result"
    }
   ],
   "source": [
    "stock_rise"
   ]
  },
  {
   "cell_type": "code",
   "execution_count": 11,
   "metadata": {},
   "outputs": [
    {
     "data": {
      "text/plain": [
       "10"
      ]
     },
     "execution_count": 11,
     "metadata": {},
     "output_type": "execute_result"
    }
   ],
   "source": [
    "stock_rise.shape[0]"
   ]
  },
  {
   "cell_type": "code",
   "execution_count": 12,
   "metadata": {},
   "outputs": [],
   "source": [
    "stock_code = [\"股票{}\".format(i+1) for i in range(stock_rise.shape[0])]"
   ]
  },
  {
   "cell_type": "code",
   "execution_count": 13,
   "metadata": {},
   "outputs": [
    {
     "data": {
      "text/plain": [
       "['股票1', '股票2', '股票3', '股票4', '股票5', '股票6', '股票7', '股票8', '股票9', '股票10']"
      ]
     },
     "execution_count": 13,
     "metadata": {},
     "output_type": "execute_result"
    }
   ],
   "source": [
    "stock_code"
   ]
  },
  {
   "cell_type": "code",
   "execution_count": 15,
   "metadata": {},
   "outputs": [
    {
     "data": {
      "text/html": [
       "<div>\n",
       "<style scoped>\n",
       "    .dataframe tbody tr th:only-of-type {\n",
       "        vertical-align: middle;\n",
       "    }\n",
       "\n",
       "    .dataframe tbody tr th {\n",
       "        vertical-align: top;\n",
       "    }\n",
       "\n",
       "    .dataframe thead th {\n",
       "        text-align: right;\n",
       "    }\n",
       "</style>\n",
       "<table border=\"1\" class=\"dataframe\">\n",
       "  <thead>\n",
       "    <tr style=\"text-align: right;\">\n",
       "      <th></th>\n",
       "      <th>0</th>\n",
       "      <th>1</th>\n",
       "      <th>2</th>\n",
       "      <th>3</th>\n",
       "      <th>4</th>\n",
       "    </tr>\n",
       "  </thead>\n",
       "  <tbody>\n",
       "    <tr>\n",
       "      <th>股票1</th>\n",
       "      <td>NaN</td>\n",
       "      <td>NaN</td>\n",
       "      <td>NaN</td>\n",
       "      <td>NaN</td>\n",
       "      <td>NaN</td>\n",
       "    </tr>\n",
       "    <tr>\n",
       "      <th>股票2</th>\n",
       "      <td>NaN</td>\n",
       "      <td>NaN</td>\n",
       "      <td>NaN</td>\n",
       "      <td>NaN</td>\n",
       "      <td>NaN</td>\n",
       "    </tr>\n",
       "    <tr>\n",
       "      <th>股票3</th>\n",
       "      <td>NaN</td>\n",
       "      <td>NaN</td>\n",
       "      <td>NaN</td>\n",
       "      <td>NaN</td>\n",
       "      <td>NaN</td>\n",
       "    </tr>\n",
       "    <tr>\n",
       "      <th>股票4</th>\n",
       "      <td>NaN</td>\n",
       "      <td>NaN</td>\n",
       "      <td>NaN</td>\n",
       "      <td>NaN</td>\n",
       "      <td>NaN</td>\n",
       "    </tr>\n",
       "    <tr>\n",
       "      <th>股票5</th>\n",
       "      <td>NaN</td>\n",
       "      <td>NaN</td>\n",
       "      <td>NaN</td>\n",
       "      <td>NaN</td>\n",
       "      <td>NaN</td>\n",
       "    </tr>\n",
       "    <tr>\n",
       "      <th>股票6</th>\n",
       "      <td>NaN</td>\n",
       "      <td>NaN</td>\n",
       "      <td>NaN</td>\n",
       "      <td>NaN</td>\n",
       "      <td>NaN</td>\n",
       "    </tr>\n",
       "    <tr>\n",
       "      <th>股票7</th>\n",
       "      <td>NaN</td>\n",
       "      <td>NaN</td>\n",
       "      <td>NaN</td>\n",
       "      <td>NaN</td>\n",
       "      <td>NaN</td>\n",
       "    </tr>\n",
       "    <tr>\n",
       "      <th>股票8</th>\n",
       "      <td>NaN</td>\n",
       "      <td>NaN</td>\n",
       "      <td>NaN</td>\n",
       "      <td>NaN</td>\n",
       "      <td>NaN</td>\n",
       "    </tr>\n",
       "    <tr>\n",
       "      <th>股票9</th>\n",
       "      <td>NaN</td>\n",
       "      <td>NaN</td>\n",
       "      <td>NaN</td>\n",
       "      <td>NaN</td>\n",
       "      <td>NaN</td>\n",
       "    </tr>\n",
       "    <tr>\n",
       "      <th>股票10</th>\n",
       "      <td>NaN</td>\n",
       "      <td>NaN</td>\n",
       "      <td>NaN</td>\n",
       "      <td>NaN</td>\n",
       "      <td>NaN</td>\n",
       "    </tr>\n",
       "  </tbody>\n",
       "</table>\n",
       "</div>"
      ],
      "text/plain": [
       "       0   1   2   3   4\n",
       "股票1  NaN NaN NaN NaN NaN\n",
       "股票2  NaN NaN NaN NaN NaN\n",
       "股票3  NaN NaN NaN NaN NaN\n",
       "股票4  NaN NaN NaN NaN NaN\n",
       "股票5  NaN NaN NaN NaN NaN\n",
       "股票6  NaN NaN NaN NaN NaN\n",
       "股票7  NaN NaN NaN NaN NaN\n",
       "股票8  NaN NaN NaN NaN NaN\n",
       "股票9  NaN NaN NaN NaN NaN\n",
       "股票10 NaN NaN NaN NaN NaN"
      ]
     },
     "execution_count": 15,
     "metadata": {},
     "output_type": "execute_result"
    }
   ],
   "source": [
    "pd.DataFrame(stock_rise, index=stock_code)"
   ]
  },
  {
   "cell_type": "code",
   "execution_count": 16,
   "metadata": {},
   "outputs": [
    {
     "data": {
      "text/html": [
       "<div>\n",
       "<style scoped>\n",
       "    .dataframe tbody tr th:only-of-type {\n",
       "        vertical-align: middle;\n",
       "    }\n",
       "\n",
       "    .dataframe tbody tr th {\n",
       "        vertical-align: top;\n",
       "    }\n",
       "\n",
       "    .dataframe thead th {\n",
       "        text-align: right;\n",
       "    }\n",
       "</style>\n",
       "<table border=\"1\" class=\"dataframe\">\n",
       "  <thead>\n",
       "    <tr style=\"text-align: right;\">\n",
       "      <th></th>\n",
       "      <th>0</th>\n",
       "      <th>1</th>\n",
       "      <th>2</th>\n",
       "      <th>3</th>\n",
       "      <th>4</th>\n",
       "    </tr>\n",
       "  </thead>\n",
       "  <tbody>\n",
       "    <tr>\n",
       "      <th>股票1</th>\n",
       "      <td>2.017753</td>\n",
       "      <td>0.069064</td>\n",
       "      <td>-0.100455</td>\n",
       "      <td>-0.515608</td>\n",
       "      <td>0.773591</td>\n",
       "    </tr>\n",
       "    <tr>\n",
       "      <th>股票2</th>\n",
       "      <td>1.727942</td>\n",
       "      <td>0.341786</td>\n",
       "      <td>-1.130038</td>\n",
       "      <td>0.524349</td>\n",
       "      <td>-0.584082</td>\n",
       "    </tr>\n",
       "    <tr>\n",
       "      <th>股票3</th>\n",
       "      <td>1.102865</td>\n",
       "      <td>-0.820947</td>\n",
       "      <td>0.521210</td>\n",
       "      <td>1.686835</td>\n",
       "      <td>1.300559</td>\n",
       "    </tr>\n",
       "    <tr>\n",
       "      <th>股票4</th>\n",
       "      <td>-0.596973</td>\n",
       "      <td>-0.103122</td>\n",
       "      <td>-0.352932</td>\n",
       "      <td>1.116157</td>\n",
       "      <td>2.343549</td>\n",
       "    </tr>\n",
       "    <tr>\n",
       "      <th>股票5</th>\n",
       "      <td>1.068167</td>\n",
       "      <td>-0.398414</td>\n",
       "      <td>-0.128336</td>\n",
       "      <td>-1.465933</td>\n",
       "      <td>-0.500446</td>\n",
       "    </tr>\n",
       "    <tr>\n",
       "      <th>股票6</th>\n",
       "      <td>0.752304</td>\n",
       "      <td>-0.713305</td>\n",
       "      <td>-0.371199</td>\n",
       "      <td>0.971161</td>\n",
       "      <td>-0.344048</td>\n",
       "    </tr>\n",
       "    <tr>\n",
       "      <th>股票7</th>\n",
       "      <td>-0.464315</td>\n",
       "      <td>0.302121</td>\n",
       "      <td>-0.006367</td>\n",
       "      <td>-0.806792</td>\n",
       "      <td>-0.208853</td>\n",
       "    </tr>\n",
       "    <tr>\n",
       "      <th>股票8</th>\n",
       "      <td>-1.739903</td>\n",
       "      <td>0.610325</td>\n",
       "      <td>0.840840</td>\n",
       "      <td>-0.332540</td>\n",
       "      <td>1.634609</td>\n",
       "    </tr>\n",
       "    <tr>\n",
       "      <th>股票9</th>\n",
       "      <td>-0.945274</td>\n",
       "      <td>0.175606</td>\n",
       "      <td>0.415081</td>\n",
       "      <td>0.285505</td>\n",
       "      <td>0.427437</td>\n",
       "    </tr>\n",
       "    <tr>\n",
       "      <th>股票10</th>\n",
       "      <td>1.682442</td>\n",
       "      <td>1.132528</td>\n",
       "      <td>0.523902</td>\n",
       "      <td>-0.362553</td>\n",
       "      <td>-1.240964</td>\n",
       "    </tr>\n",
       "  </tbody>\n",
       "</table>\n",
       "</div>"
      ],
      "text/plain": [
       "             0         1         2         3         4\n",
       "股票1   2.017753  0.069064 -0.100455 -0.515608  0.773591\n",
       "股票2   1.727942  0.341786 -1.130038  0.524349 -0.584082\n",
       "股票3   1.102865 -0.820947  0.521210  1.686835  1.300559\n",
       "股票4  -0.596973 -0.103122 -0.352932  1.116157  2.343549\n",
       "股票5   1.068167 -0.398414 -0.128336 -1.465933 -0.500446\n",
       "股票6   0.752304 -0.713305 -0.371199  0.971161 -0.344048\n",
       "股票7  -0.464315  0.302121 -0.006367 -0.806792 -0.208853\n",
       "股票8  -1.739903  0.610325  0.840840 -0.332540  1.634609\n",
       "股票9  -0.945274  0.175606  0.415081  0.285505  0.427437\n",
       "股票10  1.682442  1.132528  0.523902 -0.362553 -1.240964"
      ]
     },
     "execution_count": 16,
     "metadata": {},
     "output_type": "execute_result"
    }
   ],
   "source": [
    "pd.DataFrame(stock, index=stock_code)"
   ]
  },
  {
   "cell_type": "code",
   "execution_count": 17,
   "metadata": {},
   "outputs": [],
   "source": [
    "date = pd.date_range(start=\"20190401\", periods=stock_rise.shape[1], freq=\"B\")"
   ]
  },
  {
   "cell_type": "code",
   "execution_count": 18,
   "metadata": {},
   "outputs": [
    {
     "data": {
      "text/plain": [
       "DatetimeIndex(['2019-04-01', '2019-04-02', '2019-04-03', '2019-04-04',\n",
       "               '2019-04-05'],\n",
       "              dtype='datetime64[ns]', freq='B')"
      ]
     },
     "execution_count": 18,
     "metadata": {},
     "output_type": "execute_result"
    }
   ],
   "source": [
    "date\n"
   ]
  },
  {
   "cell_type": "code",
   "execution_count": null,
   "metadata": {},
   "outputs": [],
   "source": []
  }
 ],
 "metadata": {
  "kernelspec": {
   "display_name": "Python 3",
   "language": "python",
   "name": "python3"
  },
  "language_info": {
   "codemirror_mode": {
    "name": "ipython",
    "version": 3
   },
   "file_extension": ".py",
   "mimetype": "text/x-python",
   "name": "python",
   "nbconvert_exporter": "python",
   "pygments_lexer": "ipython3",
   "version": "3.7.6"
  }
 },
 "nbformat": 4,
 "nbformat_minor": 4
}
